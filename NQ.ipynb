{
  "nbformat": 4,
  "nbformat_minor": 0,
  "metadata": {
    "colab": {
      "provenance": [],
      "collapsed_sections": [],
      "authorship_tag": "ABX9TyNlY5AoVtPoUYMliSQUsG8E",
      "include_colab_link": true
    },
    "kernelspec": {
      "name": "python3",
      "display_name": "Python 3"
    },
    "language_info": {
      "name": "python"
    }
  },
  "cells": [
    {
      "cell_type": "markdown",
      "metadata": {
        "id": "view-in-github",
        "colab_type": "text"
      },
      "source": [
        "<a href=\"https://colab.research.google.com/github/Anagefilho/UFU_Mestrado/blob/main/NQ.ipynb\" target=\"_parent\"><img src=\"https://colab.research.google.com/assets/colab-badge.svg\" alt=\"Open In Colab\"/></a>"
      ]
    },
    {
      "cell_type": "markdown",
      "source": [
        "#Fitness, anotando quanto as rainhas se colidem horizontalmente e verticalmente em cada individuo."
      ],
      "metadata": {
        "id": "rgte0vux25oV"
      }
    },
    {
      "cell_type": "code",
      "source": [
        "def fitnessScore(pop,n_pop):\n",
        "  fit = np.zeros([pop[:,1].size, 1],dtype=int) #Criacao da array do fit do tamanho da populacao, a matriz contem 1 coluna com pop.size linhas.\n",
        "  colide_diagonal = 0\n",
        "  colide_linha = 0\n",
        "\n",
        "  for i in range(n_pop): #for para passar em toda populacao atual.\n",
        "    colide_linha = len(pop[i]) - len(np.unique(pop[i])) # se existir números iguais na linha as rainhas estao se colidindo horizontalmente.\n",
        "\n",
        "    x = pop[i]\n",
        "    colide_diagonal = 0\n",
        "\n",
        "    for k in range(len(x)): # k e criado para comparar a posicao da peca atual com todas pecas do tabuleiro.\n",
        "\n",
        "      for j in range(len(x)): # j criado para ser comparado com k\n",
        "          if j != k:\n",
        "            delta_x = abs(k - j) # diferenca das colunas da peca atual k com as outras pecas j\n",
        "            delta_y = abs(x[k] - x[j]) # diferenca entre peca atual x[k] com as outras do tabuleiro x[j], diferenca das linhas de cada rainha\n",
        "\n",
        "            if(delta_x == delta_y): # quando as diferencas entre as colunas (delta_x) e a diferenca entre as linhas sao iguais temos uma colisao diagonal. \n",
        "              colide_diagonal += 1\n",
        "\n",
        "      fit[i,0] = colide_linha + colide_diagonal\n",
        "\n",
        "  return fit"
      ],
      "metadata": {
        "id": "HkWUeCG625FA"
      },
      "execution_count": 48,
      "outputs": []
    },
    {
      "cell_type": "markdown",
      "source": [
        "#Crossover simples e de dois pontos"
      ],
      "metadata": {
        "id": "DgXQBbjN3Chy"
      }
    },
    {
      "cell_type": "code",
      "source": [
        "def crossoverX(pai1, pai2):\n",
        "    filho1 = np.zeros([len(pai1)],dtype=int) #Inicia filhos\n",
        "    filho2 = np.zeros([len(pai2)], dtype=int)\n",
        "    x = random.randint(0, n)\n",
        "\n",
        "    p11 = pai1[0:x]\n",
        "    p12 = pai1[x:n]\n",
        "    p21 = pai2[0:x]\n",
        "    p22 = pai2[x:n]\n",
        "    \n",
        "    filho1 = np.hstack([p11,p22])\n",
        "    filho2 = np.hstack([p21,p12])\n",
        "    \n",
        "    filho1 = Mutacao(filho1) #Aplicando a mutacao\n",
        "    filho2 = Mutacao(filho2)\n",
        "    \n",
        "    filhos = np.vstack([filho1,filho2])\n",
        "    return filhos\n",
        "\n",
        "def crossover2X(pai1, pai2):\n",
        "    filho1 = np.zeros([len(pai1)],dtype=int) #Inicia filhos\n",
        "    filho2 = np.zeros([len(pai2)], dtype=int)\n",
        "    x = int(n/4)\n",
        "    y = int(n/2)\n",
        "    \n",
        "    p11 = pai1[0:x]\n",
        "    p1m = pai1[x:y]\n",
        "    p1m2 = pai1[y:x+y]\n",
        "    p12 = pai1[x+y:n]\n",
        "\n",
        "    p21 = pai2[0:x]\n",
        "    p2m = pai2[x:y]\n",
        "    p2m2 = pai2[y:x+y]\n",
        "    p22 = pai2[x+y:n]\n",
        "    \n",
        "    filho1 = np.concatenate([p11,p2m,p2m2,p12])\n",
        "    filho2 = np.concatenate([p21,p1m,p1m2,p22])\n",
        "    \n",
        "    filho1 = MutacaoDupla(filho1) #Aplicando a mutacao dupla \n",
        "    filho2 = MutacaoDupla(filho2)\n",
        "    \n",
        "    filhos = np.vstack([filho1,filho2])\n",
        "    return filhos\n"
      ],
      "metadata": {
        "id": "xHPUE6yhrsPE"
      },
      "execution_count": 49,
      "outputs": []
    },
    {
      "cell_type": "markdown",
      "source": [
        "# Mutacões, e dupla mutacao"
      ],
      "metadata": {
        "id": "UwLHwKYbiOzW"
      }
    },
    {
      "cell_type": "code",
      "source": [
        "#Mutacões\n",
        "def Mutacao(filho, Mutacao_prob=.20): #probabilidade de mutacao de 80% para dar mais diversividade ao modelo mas sem mutacao dupla\n",
        "      p = random.random()\n",
        "      if(p > Mutacao_prob):\n",
        "        ind = np.random.choice(len(filho), 4, replace=False)\n",
        "        temp = filho[ind[0]]\n",
        "        filho[ind[0]] = filho[ind[1]]\n",
        "        filho[ind[1]] = temp\n",
        "        return filho       \n",
        "\n",
        "      else:\n",
        "        return filho\n",
        "\n",
        "def MutacaoDupla(filho, Mutacao_prob=.40): #probabilidade de mutacao de 80% para dar mais diversividade ao modelo, e tem a chance de ocorrer mutacao dupla.\n",
        "      p = random.random()\n",
        "      if(p > Mutacao_prob):\n",
        "        ind = np.random.choice(len(filho), 4, replace=False)\n",
        "        temp = filho[ind[0]]\n",
        "        filho[ind[0]] = filho[ind[1]]\n",
        "        filho[ind[1]] = temp\n",
        "        \n",
        "        if (p > 0.7): #Mutacao dupla, 0.2% de chance\n",
        "          temp2 = filho[ind[2]]\n",
        "          filho[ind[2]] = filho[ind[3]]\n",
        "          filho[ind[3]] = temp2\n",
        "          \n",
        "      return filho"
      ],
      "metadata": {
        "id": "FZ_n48YSiNAx"
      },
      "execution_count": 50,
      "outputs": []
    },
    {
      "cell_type": "markdown",
      "source": [
        "#Seleções e funcao de imprimir tabuleiro"
      ],
      "metadata": {
        "id": "jhjnlk_yVAyg"
      }
    },
    {
      "cell_type": "code",
      "source": [
        "#Avaliacao, checa fitness\n",
        "def selecao_ranking(pop, n_pop):\n",
        "    pop = pop[pop[:,n].argsort()][0:n_pop, :] #retorna uma lista com a populacao ordenada pelo fitting score\n",
        "    return pop #pegamos os 2 melhores pais da populacao atual.\n",
        "\n",
        "def selecao_aleatoria(pop, n_pop):\n",
        "    pai_aleatorio = random.randint(0, n_pop/2)\n",
        "    pai_aleatorio2 = random.randint(0, n_pop/2)\n",
        "    return pop[pai_aleatorio],pop[pai_aleatorio2] # 2 pais aleatorios da metade da populacao. \n",
        "\n",
        "def lista_probabilidade(pop):\n",
        "    fitness = pop[:,[n]]\n",
        "    total_fit = float(sum(fitness))\n",
        "    relative_fitness = [f/total_fit for f in fitness]\n",
        "    probabilities = [sum(relative_fitness[:i+1]) \n",
        "                     for i in range(len(relative_fitness))]\n",
        "    return probabilities\n",
        "\n",
        "def selecao_roleta(pop, probabilities, n_pop):\n",
        "    chosen = []\n",
        "    for n in range(n_pop):\n",
        "        r = random.random()\n",
        "        for (i, individual) in enumerate(pop):\n",
        "            if r <= probabilities[i]:\n",
        "                chosen.append(list(individual))\n",
        "                break\n",
        "    return chosen\n",
        "\n",
        "def tabuleiro(pop, n): # Desenha o tabuleiro\n",
        "    tabuleiro = np.zeros((n,n,3))\n",
        "    tabuleiro += 0.5 # Inicializa o tabuleiro com cor preta em todas as casas da matriz\n",
        "    tabuleiro[::2, ::2] = 1 # Cor branca\n",
        "    tabuleiro[1::2, 1::2] = 1 # Cor branca restantes\n",
        "\n",
        "    positions = pop[0,:n] # A melhor populacao\n",
        "\n",
        "    fig, ax = plt.subplots()\n",
        "    ax.imshow(tabuleiro, interpolation='nearest')\n",
        "\n",
        "    for y, x in enumerate(positions):\n",
        "        ax.text(x, y, u'\\u2655', size=15, ha='center', va='center')\n",
        "\n",
        "    ax.set(xticks=[], yticks=[])\n",
        "    ax.axis('image')\n",
        "    \n",
        "    plt.show()\n",
        "\n",
        "def inicializa(pop, n_pop):\n",
        "  for i in range(n_pop):\n",
        "    pop[i, :] = np.random.permutation(n) #Inicializaçao da populaçao com permutacões dos númeoros de 0 ate n.\n",
        "  return pop"
      ],
      "metadata": {
        "id": "ULoh4cNxU_24"
      },
      "execution_count": 54,
      "outputs": []
    },
    {
      "cell_type": "markdown",
      "source": [
        "#Inicializacao e looping (Exemplo com geracões)\n",
        "\n",
        "# Alteracões possiveis no codigo\n",
        "1.   Escolher tipo de selecao: selecao_aleatoria, selecao_ranking, selecao_roleta\n",
        "2.   Crossover: crossoverX / crossover2X\n",
        "3.   Mutacao: Mutacao / MutacaoDupla\n",
        "\n"
      ],
      "metadata": {
        "id": "2CqhQrpmU6UG"
      }
    },
    {
      "cell_type": "markdown",
      "source": [
        "# A.G Com crossover de vários pais gerando vários filhos para serem avaliados"
      ],
      "metadata": {
        "id": "2PAiz_1JfYK-"
      }
    },
    {
      "cell_type": "code",
      "source": [
        "import sys\n",
        "import random\n",
        "import numpy as np \n",
        "import matplotlib.pyplot as plt\n",
        "\n",
        "#Roteiro para criacao do algoritmo genetico\n",
        "\n",
        "#Representacao\n",
        "#Inicializacao\n",
        "#Avaliacao\n",
        "#Loop\n",
        "#Selecao\n",
        "#Cruzamento\n",
        "#Mutacao\n",
        "#Avaliacao\n",
        "#Reinsercao\n",
        "\n",
        "#Representacao por exemplo: 8 rainhas, [1 4 3 6 2 7 5 0]\n",
        "\n",
        "# Nesse caso a fitness = número de rainhas se conflitando.  \n",
        "\"\"\" \n",
        "    k = 0, j = 2\n",
        "    0 - 2 = 2 \n",
        "    x[k] - x[j]\n",
        "    1 - 3 = 2\n",
        "    colide diagonal += 1\n",
        "\n",
        "    k = 1, j = 2\n",
        "    1 - 2 = 1\n",
        "    x[k] - x[j]\n",
        "    4 - 3 = 1\n",
        "    colide diagonal += 1\n",
        "\n",
        "    k = 1, j = 3 \n",
        "    1 - 3 = 2\n",
        "    x[k] = 4, x[j] = 6\n",
        "    4 - 6 = 2\n",
        "    colide diagonal += 1\n",
        "\n",
        "    fitness score = 3 nesse individuo.\n",
        "\n",
        "   0 1 2 3 4 5 6 7 \n",
        "0 [0 0 0 0 0 0 0 X ] \n",
        "1 [X 0 0 0 0 0 0 0 ]\n",
        "2 [0 0 0 0 X 0 0 0 ]\n",
        "3 [0 0 X 0 0 0 0 0 ]\n",
        "4 [0 X 0 0 0 0 0 0 ]\n",
        "5 [0 0 0 0 0 0 X 0 ]\n",
        "6 [0 0 0 X 0 0 0 0 ]\n",
        "7 [0 0 0 0 0 X 0 0 ]\n",
        "\"\"\"\n",
        "#Inicializacao\n",
        "#n = int(input(\"Digite o número de rainhas: \"))\n",
        "#n_pop = int(input(\"Número da populacao: \"))\n",
        "n = 8\n",
        "n_pop = 200\n",
        "generation = 0\n",
        "\n",
        "pop = np.zeros([n_pop,n],dtype=int)\n",
        "IndAleatorio = np.zeros(1)\n",
        "\n",
        "for i in range(n_pop):\n",
        "    pop[i, :] = np.random.permutation(n) #Inicializacao da populacao com permutacões dos númeoros de 0 ate n.\n",
        "\n",
        "  \n",
        "fit = fitnessScore(pop,n_pop) # calcula de todos da populacao atual\n",
        "\n",
        "pop = np.hstack([pop,fit]) # adiciona na ultima linha os valores de fitness de cada individuo da populacao.\n",
        "\n",
        "pop = pop[pop[:,n].argsort()][0:n_pop, :] # Retorna a populacao ordenada pelo fitting \n",
        "\n",
        "#Loop\n",
        "while(pop[0][n] != 0):\n",
        "    generation+=1\n",
        "    if generation % 1000 == 0:\n",
        "      for i in range(int(n_pop/2),n_pop):# Tentativa de recomeco aleatorio, adiciona um individuo aleatorio no final para fugir de otimos locais.\n",
        "          pop[i, :n] = np.random.permutation(n) # Elimina metade da população e substitui por novos indivíduos aleatórios \n",
        "    \n",
        "    #probability = lista_probabilidade(pop)\n",
        "    #pais = selecao_roleta(pop, probability, n_pop)  #Seleções\n",
        "    pais = selecao_ranking(pop, n_pop)\n",
        "    #pais = selecao_aleatoria(pop, n_pop)\n",
        "    \n",
        "    for i in range(int(len(pais)/2)): #Crossover com metade dos pais da populacao\n",
        "      filhos = crossoverX(pais[i],pais[i+1]) #Crossover e mutacao\n",
        "      #filhos = crossover2X(pais[i],pais[i+1]) #Crossover e mutacao\n",
        "      \n",
        "    fit_filhos = fitnessScore(filhos,len(filhos))\n",
        "    filhos = np.hstack([filhos,fit_filhos])\n",
        "\n",
        "    pop = np.vstack([pop,filhos]) # Reinsercao\n",
        "    pop = pop[pop[:,n].argsort()][0:n_pop, :] # Atualiza pop pegando os N melhores individuos \n",
        "\n",
        "    if generation > 9999: #Falhou, tenta criar uma nova população\n",
        "      for i in range(int(n_pop/2),n_pop):\n",
        "        pop[i, :n] = np.random.permutation(n) #Inicializacao da populacao com permutacões dos númeoros de 0 ate n.\n",
        "      generation=0\n",
        "\n",
        "print(\"Número de rainhas: \", n)\n",
        "print(\"Número de geracões: \", generation)\n",
        "print(\"Melhor solucao: \", pop[0, 0:n])\n",
        "print(\"Número de conflitos: \", pop[0][n])\n",
        "tabuleiro(pop, n)"
      ],
      "metadata": {
        "colab": {
          "base_uri": "https://localhost:8080/",
          "height": 321
        },
        "id": "Ee2NMvzFSowA",
        "outputId": "5e244886-73dc-4529-9b0d-64bd120e5e6f"
      },
      "execution_count": 58,
      "outputs": [
        {
          "output_type": "stream",
          "name": "stdout",
          "text": [
            "Número de rainhas:  8\n",
            "Número de geracões:  2193\n",
            "Melhor solucao:  [3 6 2 7 1 4 0 5]\n",
            "Número de conflitos:  0\n"
          ]
        },
        {
          "output_type": "display_data",
          "data": {
            "text/plain": [
              "<Figure size 432x288 with 1 Axes>"
            ],
            "image/png": "[encoded data removed]"
          },
          "metadata": {}
        }
      ]
    },
    {
      "cell_type": "markdown",
      "source": [],
      "metadata": {
        "id": "WMrds5EBfQwR"
      }
    }
  ]
}